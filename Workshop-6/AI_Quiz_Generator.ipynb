{
  "nbformat": 4,
  "nbformat_minor": 0,
  "metadata": {
    "colab": {
      "provenance": [],
      "gpuType": "V28"
    },
    "kernelspec": {
      "name": "python3",
      "display_name": "Python 3"
    },
    "language_info": {
      "name": "python"
    },
    "accelerator": "TPU"
  },
  "cells": [
    {
      "cell_type": "markdown",
      "source": [
        "Workshop Links:\n",
        "\n",
        "Google Forms API: https://developers.google.com/workspace/forms/api/reference/rest/v1/forms\n",
        "\n",
        "Google Cloud:\n",
        "https://console.cloud.google.com/"
      ],
      "metadata": {
        "id": "nRgI2Be-Sezj"
      }
    },
    {
      "cell_type": "code",
      "source": [
        "!pip install google-generativeai google-auth google-auth-oauthlib google-auth-httplib2"
      ],
      "metadata": {
        "colab": {
          "base_uri": "https://localhost:8080/",
          "height": 1000
        },
        "id": "wgHiwB2DDsvW",
        "outputId": "6fec0004-9dce-4da2-8253-7371725ecfe7",
        "collapsed": true
      },
      "execution_count": null,
      "outputs": [
        {
          "output_type": "stream",
          "name": "stdout",
          "text": [
            "Collecting google-generativeai\n",
            "  Downloading google_generativeai-0.8.4-py3-none-any.whl.metadata (4.2 kB)\n",
            "Requirement already satisfied: google-auth in /usr/local/lib/python3.11/dist-packages (2.38.0)\n",
            "Requirement already satisfied: google-auth-oauthlib in /usr/local/lib/python3.11/dist-packages (1.2.1)\n",
            "Collecting google-auth-httplib2\n",
            "  Downloading google_auth_httplib2-0.2.0-py2.py3-none-any.whl.metadata (2.2 kB)\n",
            "Collecting google-ai-generativelanguage==0.6.15 (from google-generativeai)\n",
            "  Downloading google_ai_generativelanguage-0.6.15-py3-none-any.whl.metadata (5.7 kB)\n",
            "Requirement already satisfied: google-api-core in /usr/local/lib/python3.11/dist-packages (from google-generativeai) (2.24.2)\n",
            "Collecting google-api-python-client (from google-generativeai)\n",
            "  Downloading google_api_python_client-2.166.0-py2.py3-none-any.whl.metadata (6.6 kB)\n",
            "Requirement already satisfied: protobuf in /usr/local/lib/python3.11/dist-packages (from google-generativeai) (5.29.4)\n",
            "Requirement already satisfied: pydantic in /usr/local/lib/python3.11/dist-packages (from google-generativeai) (2.11.1)\n",
            "Requirement already satisfied: tqdm in /usr/local/lib/python3.11/dist-packages (from google-generativeai) (4.67.1)\n",
            "Requirement already satisfied: typing-extensions in /usr/local/lib/python3.11/dist-packages (from google-generativeai) (4.13.0)\n",
            "Requirement already satisfied: proto-plus<2.0.0dev,>=1.22.3 in /usr/local/lib/python3.11/dist-packages (from google-ai-generativelanguage==0.6.15->google-generativeai) (1.26.1)\n",
            "Requirement already satisfied: cachetools<6.0,>=2.0.0 in /usr/local/lib/python3.11/dist-packages (from google-auth) (5.5.2)\n",
            "Requirement already satisfied: pyasn1-modules>=0.2.1 in /usr/local/lib/python3.11/dist-packages (from google-auth) (0.4.2)\n",
            "Requirement already satisfied: rsa<5,>=3.1.4 in /usr/local/lib/python3.11/dist-packages (from google-auth) (4.9)\n",
            "Requirement already satisfied: requests-oauthlib>=0.7.0 in /usr/local/lib/python3.11/dist-packages (from google-auth-oauthlib) (2.0.0)\n",
            "Requirement already satisfied: httplib2>=0.19.0 in /usr/lib/python3/dist-packages (from google-auth-httplib2) (0.20.2)\n",
            "Requirement already satisfied: googleapis-common-protos<2.0.0,>=1.56.2 in /usr/local/lib/python3.11/dist-packages (from google-api-core->google-generativeai) (1.69.2)\n",
            "Requirement already satisfied: requests<3.0.0,>=2.18.0 in /usr/local/lib/python3.11/dist-packages (from google-api-core->google-generativeai) (2.32.3)\n",
            "Requirement already satisfied: pyparsing!=3.0.0,!=3.0.1,!=3.0.2,!=3.0.3,<4,>=2.4.2 in /usr/local/lib/python3.11/dist-packages (from httplib2>=0.19.0->google-auth-httplib2) (3.2.3)\n",
            "Requirement already satisfied: pyasn1<0.7.0,>=0.6.1 in /usr/local/lib/python3.11/dist-packages (from pyasn1-modules>=0.2.1->google-auth) (0.6.1)\n",
            "Requirement already satisfied: oauthlib>=3.0.0 in /usr/local/lib/python3.11/dist-packages (from requests-oauthlib>=0.7.0->google-auth-oauthlib) (3.2.2)\n",
            "Collecting uritemplate<5,>=3.0.1 (from google-api-python-client->google-generativeai)\n",
            "  Downloading uritemplate-4.1.1-py2.py3-none-any.whl.metadata (2.9 kB)\n",
            "Requirement already satisfied: annotated-types>=0.6.0 in /usr/local/lib/python3.11/dist-packages (from pydantic->google-generativeai) (0.7.0)\n",
            "Requirement already satisfied: pydantic-core==2.33.0 in /usr/local/lib/python3.11/dist-packages (from pydantic->google-generativeai) (2.33.0)\n",
            "Requirement already satisfied: typing-inspection>=0.4.0 in /usr/local/lib/python3.11/dist-packages (from pydantic->google-generativeai) (0.4.0)\n",
            "Requirement already satisfied: grpcio<2.0dev,>=1.33.2 in /usr/local/lib/python3.11/dist-packages (from google-api-core[grpc]!=2.0.*,!=2.1.*,!=2.10.*,!=2.2.*,!=2.3.*,!=2.4.*,!=2.5.*,!=2.6.*,!=2.7.*,!=2.8.*,!=2.9.*,<3.0.0dev,>=1.34.1->google-ai-generativelanguage==0.6.15->google-generativeai) (1.71.0)\n",
            "Collecting grpcio-status<2.0.dev0,>=1.33.2 (from google-api-core[grpc]!=2.0.*,!=2.1.*,!=2.10.*,!=2.2.*,!=2.3.*,!=2.4.*,!=2.5.*,!=2.6.*,!=2.7.*,!=2.8.*,!=2.9.*,<3.0.0dev,>=1.34.1->google-ai-generativelanguage==0.6.15->google-generativeai)\n",
            "  Downloading grpcio_status-1.71.0-py3-none-any.whl.metadata (1.1 kB)\n",
            "Requirement already satisfied: charset-normalizer<4,>=2 in /usr/local/lib/python3.11/dist-packages (from requests<3.0.0,>=2.18.0->google-api-core->google-generativeai) (3.4.1)\n",
            "Requirement already satisfied: idna<4,>=2.5 in /usr/local/lib/python3.11/dist-packages (from requests<3.0.0,>=2.18.0->google-api-core->google-generativeai) (3.10)\n",
            "Requirement already satisfied: urllib3<3,>=1.21.1 in /usr/local/lib/python3.11/dist-packages (from requests<3.0.0,>=2.18.0->google-api-core->google-generativeai) (2.3.0)\n",
            "Requirement already satisfied: certifi>=2017.4.17 in /usr/local/lib/python3.11/dist-packages (from requests<3.0.0,>=2.18.0->google-api-core->google-generativeai) (2025.1.31)\n",
            "Downloading google_generativeai-0.8.4-py3-none-any.whl (175 kB)\n",
            "\u001b[2K   \u001b[90m━━━━━━━━━━━━━━━━━━━━━━━━━━━━━━━━━━━━━━━━\u001b[0m \u001b[32m175.4/175.4 kB\u001b[0m \u001b[31m3.4 MB/s\u001b[0m eta \u001b[36m0:00:00\u001b[0m\n",
            "\u001b[?25hDownloading google_ai_generativelanguage-0.6.15-py3-none-any.whl (1.3 MB)\n",
            "\u001b[2K   \u001b[90m━━━━━━━━━━━━━━━━━━━━━━━━━━━━━━━━━━━━━━━━\u001b[0m \u001b[32m1.3/1.3 MB\u001b[0m \u001b[31m27.8 MB/s\u001b[0m eta \u001b[36m0:00:00\u001b[0m\n",
            "\u001b[?25hDownloading google_auth_httplib2-0.2.0-py2.py3-none-any.whl (9.3 kB)\n",
            "Downloading google_api_python_client-2.166.0-py2.py3-none-any.whl (13.2 MB)\n",
            "\u001b[2K   \u001b[90m━━━━━━━━━━━━━━━━━━━━━━━━━━━━━━━━━━━━━━━━\u001b[0m \u001b[32m13.2/13.2 MB\u001b[0m \u001b[31m93.5 MB/s\u001b[0m eta \u001b[36m0:00:00\u001b[0m\n",
            "\u001b[?25hDownloading uritemplate-4.1.1-py2.py3-none-any.whl (10 kB)\n",
            "Downloading grpcio_status-1.71.0-py3-none-any.whl (14 kB)\n",
            "Installing collected packages: uritemplate, grpcio-status, google-auth-httplib2, google-api-python-client, google-ai-generativelanguage, google-generativeai\n",
            "Successfully installed google-ai-generativelanguage-0.6.15 google-api-python-client-2.166.0 google-auth-httplib2-0.2.0 google-generativeai-0.8.4 grpcio-status-1.71.0 uritemplate-4.1.1\n"
          ]
        },
        {
          "output_type": "display_data",
          "data": {
            "application/vnd.colab-display-data+json": {
              "pip_warning": {
                "packages": [
                  "google"
                ]
              },
              "id": "e44d7f7b354b44679015f524cca68707"
            }
          },
          "metadata": {}
        }
      ]
    },
    {
      "cell_type": "code",
      "execution_count": null,
      "metadata": {
        "id": "Cv--1DWRCfuD"
      },
      "outputs": [],
      "source": [
        "# AI Quiz Generator with Google AI (Gemma + Google Forms API)\n",
        "\n",
        "# Step 1: Import Required Libraries\n",
        "import google.generativeai as genai\n",
        "import google.auth\n",
        "from googleapiclient.discovery import build\n",
        "from google.colab import userdata\n",
        "import json\n",
        "import requests\n",
        "import os\n",
        "from google.colab import auth"
      ]
    },
    {
      "cell_type": "code",
      "source": [
        "# Step 2: Authenticate and Setup APIs\n",
        "PROJECT_ID = \"630938461317\"\n",
        "\n",
        "auth.authenticate_user(project_id=PROJECT_ID)\n",
        "\n",
        "# Set up API credentials\n",
        "creds, _ = google.auth.default()\n",
        "service = build('forms', 'v1', credentials=creds)\n",
        "\n",
        "# Set up the model\n",
        "GOOGLE_API_KEY = userdata.get('API_KEY1')\n",
        "genai.configure(api_key=GOOGLE_API_KEY)\n",
        "model = genai.GenerativeModel('gemini-1.5-flash')"
      ],
      "metadata": {
        "id": "l1SEqkAQATb8"
      },
      "execution_count": null,
      "outputs": []
    },
    {
      "cell_type": "code",
      "source": [
        "# Step 3: Use Gemma to extract key topics and generate multiple-choice questions\n",
        "def generate_quiz_questions(text):\n",
        "    prompt = f\"\"\"Generate a 5 question multiple choice quiz with the full correct answers in the following format based on this text: {text}.\n",
        "    Question 1: <question text>?\n",
        "    a) <option 1>\n",
        "    b) <option 2>\n",
        "    c) <option 3>\n",
        "    d) <option 4>\n",
        "    Correct Answer: <correct answer>\n",
        "\n",
        "    Question 2: <question text>?\n",
        "    a) <option 1>\n",
        "    b) <option 2>\n",
        "    c) <option 3>\n",
        "    d) <option 4>\n",
        "    Correct Answer: <correct answer>\n",
        "\n",
        "    \"\"\"\n",
        "    response = model.generate_content(prompt)\n",
        "    return response.text  # Output generated questions and answers"
      ],
      "metadata": {
        "id": "5qc1bIl-3UzO"
      },
      "execution_count": null,
      "outputs": []
    },
    {
      "cell_type": "code",
      "source": [
        "# Step 4: Create the quiz using requests to Google Forms API\n",
        "\n",
        "def create_quiz(questions):\n",
        "    # create the form with only the title\n",
        "    form = {\n",
        "        \"info\": {\"title\": \"AI-Generated Science Quiz Test 2\"},\n",
        "    }\n",
        "    result = service.forms().create(body=form).execute()\n",
        "    form_id = result.get(\"formId\")\n",
        "\n",
        "    # update the form settings to Quiz mode\n",
        "    update_settings = {\n",
        "        \"requests\": {\n",
        "            \"updateSettings\": {\n",
        "                \"settings\": {\n",
        "                    \"quizSettings\": {\n",
        "                        \"isQuiz\": True\n",
        "                    }\n",
        "                },\n",
        "                \"updateMask\": {\n",
        "                    \"paths\": \"quizSettings.isQuiz\"\n",
        "                }\n",
        "            }\n",
        "        }\n",
        "\n",
        "    }\n",
        "    service.forms().batchUpdate(formId=form_id, body=update_settings).execute()\n",
        "\n",
        "    # Format the questions for the request\n",
        "    requests_list = []\n",
        "    index = 0\n",
        "    for question_block in questions.split('\\n\\n'):\n",
        "        if question_block.strip():\n",
        "            lines = question_block.strip().split('\\n')  # extract each line for that question\n",
        "            question_text = lines[0].strip()  # get the question\n",
        "            options = [line[line.find(')') + 2:].strip() for line in lines[1:len(lines)-1]]  # Extract options\n",
        "            answer_line = lines[len(lines)-1].strip() # Extract line of correct answer\n",
        "            correct_answer = answer_line[answer_line.find(')') + 2:].strip()  # Extract text of correct answer\n",
        "\n",
        "            # Build the question item with correct answer for grading\n",
        "            question_item = {\n",
        "                \"createItem\": {\n",
        "                    \"item\": {\n",
        "                        \"title\": question_text,\n",
        "                        \"questionItem\": {\n",
        "                            \"question\": {\n",
        "                                \"required\": True,\n",
        "                                \"choiceQuestion\": {\n",
        "                                    \"type\": \"RADIO\",\n",
        "                                    \"options\": [{\"value\": option} for option in options],\n",
        "                                },\n",
        "                                # Add grading information\n",
        "                                \"grading\": {\n",
        "                                    \"pointValue\": 1,  # Assign points for correct answer\n",
        "                                    \"correctAnswers\": {\n",
        "                                        \"answers\": [{\"value\": correct_answer}]\n",
        "                                    }\n",
        "                                }\n",
        "                            }\n",
        "                        }\n",
        "                    },\n",
        "                    \"location\": {\"index\": index}  # Add at the end\n",
        "                }\n",
        "            }\n",
        "            requests_list.append(question_item)\n",
        "            index = index + 1\n",
        "\n",
        "    # Execute the batch update\n",
        "    body = {\n",
        "        'requests': requests_list\n",
        "    }\n",
        "    # service.forms().batchUpdate(formId=form_id, body=body).execute()\n",
        "\n",
        "    # form_url = f\"https://docs.google.com/forms/d/{form_id}\"\n",
        "    # return form_url  # Return Google Form link"
      ],
      "metadata": {
        "id": "rGvxOtI3HCYM"
      },
      "execution_count": null,
      "outputs": []
    },
    {
      "cell_type": "code",
      "source": [
        "# Step 5: Test with Sample Input\n",
        "user_text = \"\"\"Galilean and Cartesian theories about space, matter, and motion are at the foundation of the Scientific Revolution,\n",
        "which is understood to have culminated with the publication of Newton's Principia Mathematica in 1687. Newton's theories about space and time helped him explain the\n",
        "movement of objects. While his theory of space is considered the most influential in physics, it emerged from his predecessors' ideas about the same.\n",
        "As one of the pioneers of modern science, Galileo revised the established Aristotelian and Ptolemaic ideas about a geocentric cosmos.\n",
        "He backed the Copernican theory that the universe was heliocentric, with a stationary Sun at the center and the planets—including the Earth—revolving around the Sun.\n",
        "If the Earth moved, the Aristotelian belief that its natural tendency was to remain at rest was in question.\n",
        "Galileo wanted to prove instead that the Sun moved around its axis, that motion was as natural to an object as the state of rest.\n",
        "In other words, for Galileo, celestial bodies, including the Earth, were naturally inclined to move in circles.\n",
        "This view displaced another Aristotelian idea—that all objects gravitated towards their designated natural place-of-belonging.\"\"\"\n",
        "questions = generate_quiz_questions(user_text)\n",
        "print(questions)"
      ],
      "metadata": {
        "id": "5Ox4wJDIHE4g",
        "collapsed": true,
        "colab": {
          "base_uri": "https://localhost:8080/",
          "height": 700
        },
        "outputId": "7dbb87cb-6ee0-4a22-afdf-f48bc1690729"
      },
      "execution_count": null,
      "outputs": [
        {
          "output_type": "stream",
          "name": "stdout",
          "text": [
            "Question 1: Which scientific revolution figure is credited with the publication of *Principia Mathematica* in 1687, a work considered the culmination of the revolution?\n",
            "a) Galileo Galilei\n",
            "b) René Descartes\n",
            "c) Ptolemy\n",
            "d) Isaac Newton\n",
            "Correct Answer: d) Isaac Newton\n",
            "\n",
            "Question 2:  What was the central idea of the Copernican theory that Galileo supported?\n",
            "a) A geocentric universe with the Earth at the center.\n",
            "b) A heliocentric universe with the Sun at the center.\n",
            "c) A universe with multiple centers of gravity.\n",
            "d) A universe governed solely by Aristotelian principles.\n",
            "Correct Answer: b) A heliocentric universe with the Sun at the center.\n",
            "\n",
            "Question 3:  Which Aristotelian belief was challenged by Galileo's assertion that motion is as natural as rest?\n",
            "a) The belief that the Sun revolves around the Earth.\n",
            "b) The belief that the Earth is flat.\n",
            "c) The belief that Earth's natural tendency is to remain at rest.\n",
            "d) The belief that celestial bodies are made of a different substance than earthly objects.\n",
            "Correct Answer: c) The belief that Earth's natural tendency is to remain at rest.\n",
            "\n",
            "Question 4:  According to the text, what did Galileo believe was the natural inclination of celestial bodies, including Earth?\n",
            "a) To remain at rest.\n",
            "b) To move in straight lines.\n",
            "c) To move in circles.\n",
            "d) To gravitate towards their designated place.\n",
            "Correct Answer: c) To move in circles.\n",
            "\n",
            "\n",
            "Question 5:  What is considered the most influential theory about space in physics, as mentioned in the text, and which earlier thinkers' ideas did it build upon?\n",
            "a) Aristotle's theory of geocentrism;  Ptolemy's observations.\n",
            "b) Newton's theory of space; Galileo and Descartes' ideas.\n",
            "c) Ptolemy's theory of epicycles;  Aristarchus' heliocentric ideas.\n",
            "d) Descartes' theory of vortices;  Galileo's observations of the planets.\n",
            "Correct Answer: b) Newton's theory of space; Galileo and Descartes' ideas.\n",
            "\n",
            "\n"
          ]
        }
      ]
    },
    {
      "cell_type": "code",
      "source": [
        "quiz_link = create_quiz(questions)\n",
        "print(\"Generated Quiz: \", quiz_link)  # Output Google Form link"
      ],
      "metadata": {
        "colab": {
          "base_uri": "https://localhost:8080/"
        },
        "id": "0WXVXZFSH5qs",
        "outputId": "6edf4601-8f5b-4bb5-ec2d-af6997aaf5a3"
      },
      "execution_count": null,
      "outputs": [
        {
          "output_type": "stream",
          "name": "stdout",
          "text": [
            "Isaac Newton\n",
            "A heliocentric universe with the Sun at the center.\n",
            "The belief that Earth's natural tendency is to remain at rest.\n",
            "To move in circles.\n",
            "Newton's theory of space; Galileo and Descartes' ideas.\n",
            "Generated Quiz:  https://docs.google.com/forms/d/1l7psotEcXgvG8hLcrcYdrjBfiD96nrxe6cR2zZK9Q58\n"
          ]
        }
      ]
    }
  ]
}